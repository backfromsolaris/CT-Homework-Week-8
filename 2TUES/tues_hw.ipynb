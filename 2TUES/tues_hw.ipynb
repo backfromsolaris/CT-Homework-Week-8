{
 "cells": [
  {
   "cell_type": "markdown",
   "id": "fc73dc87",
   "metadata": {},
   "source": [
    "### Homework Excersise #1 - Find the Mean for the Red Sox <br>\n",
    "<p>Get total number of home runs and rbi's</p>"
   ]
  },
  {
   "cell_type": "code",
   "execution_count": 1,
   "id": "0c5e07d2",
   "metadata": {},
   "outputs": [],
   "source": [
    "import numpy as np\n",
    "import pandas as pd\n",
    "\n",
    "# step 1: Add a new column with the key 'Team' and all column values should be 'BOS'\n",
    "\n",
    "# step 2: Group by the 'Team' column and get total home runs and rbi's\n",
    "\n",
    "# Produce data for both 2017 and 2018\n",
    "\n",
    "# Extra Credit - Concatenate your 2 final dataframes into one dataframe output"
   ]
  },
  {
   "cell_type": "code",
   "execution_count": 62,
   "id": "562b2c71",
   "metadata": {},
   "outputs": [
    {
     "data": {
      "text/html": [
       "<div>\n",
       "<style scoped>\n",
       "    .dataframe tbody tr th:only-of-type {\n",
       "        vertical-align: middle;\n",
       "    }\n",
       "\n",
       "    .dataframe tbody tr th {\n",
       "        vertical-align: top;\n",
       "    }\n",
       "\n",
       "    .dataframe thead th {\n",
       "        text-align: right;\n",
       "    }\n",
       "</style>\n",
       "<table border=\"1\" class=\"dataframe\">\n",
       "  <thead>\n",
       "    <tr style=\"text-align: right;\">\n",
       "      <th></th>\n",
       "      <th>HR</th>\n",
       "      <th>RBI</th>\n",
       "    </tr>\n",
       "    <tr>\n",
       "      <th>Team</th>\n",
       "      <th></th>\n",
       "      <th></th>\n",
       "    </tr>\n",
       "  </thead>\n",
       "  <tbody>\n",
       "    <tr>\n",
       "      <th>BOS-2017</th>\n",
       "      <td>168</td>\n",
       "      <td>735</td>\n",
       "    </tr>\n",
       "    <tr>\n",
       "      <th>BOS-2018</th>\n",
       "      <td>208</td>\n",
       "      <td>826</td>\n",
       "    </tr>\n",
       "  </tbody>\n",
       "</table>\n",
       "</div>"
      ],
      "text/plain": [
       "           HR  RBI\n",
       "Team              \n",
       "BOS-2017  168  735\n",
       "BOS-2018  208  826"
      ]
     },
     "execution_count": 62,
     "metadata": {},
     "output_type": "execute_result"
    }
   ],
   "source": [
    "bos17 = pd.read_csv('../../files/redsox_2017_hitting.txt', sep = ',')\n",
    "bos18 = pd.read_csv('../../files/redsox_2018_hitting.txt', sep = ',')\n",
    "\n",
    "bos17['Team'] = 'BOS-2017'\n",
    "stats17 = bos17.groupby(['Team']).sum()[['HR','RBI']]\n",
    "\n",
    "bos18['Team'] = 'BOS-2018'\n",
    "stats18 = bos18.groupby(['Team']).sum()[['HR','RBI']]\n",
    "\n",
    "combined_stats = [stats17, stats18]\n",
    "\n",
    "result = pd.concat(combined_stats)\n",
    "result"
   ]
  },
  {
   "cell_type": "markdown",
   "id": "9096303f",
   "metadata": {},
   "source": [
    "## Find the average age of runners in the 2017 Boston Marathon"
   ]
  },
  {
   "cell_type": "code",
   "execution_count": 65,
   "id": "d8358966",
   "metadata": {},
   "outputs": [
    {
     "data": {
      "text/html": [
       "<div>\n",
       "<style scoped>\n",
       "    .dataframe tbody tr th:only-of-type {\n",
       "        vertical-align: middle;\n",
       "    }\n",
       "\n",
       "    .dataframe tbody tr th {\n",
       "        vertical-align: top;\n",
       "    }\n",
       "\n",
       "    .dataframe thead th {\n",
       "        text-align: right;\n",
       "    }\n",
       "</style>\n",
       "<table border=\"1\" class=\"dataframe\">\n",
       "  <thead>\n",
       "    <tr style=\"text-align: right;\">\n",
       "      <th></th>\n",
       "      <th>Age</th>\n",
       "    </tr>\n",
       "    <tr>\n",
       "      <th>Title</th>\n",
       "      <th></th>\n",
       "    </tr>\n",
       "  </thead>\n",
       "  <tbody>\n",
       "    <tr>\n",
       "      <th>Runner</th>\n",
       "      <td>42.587732</td>\n",
       "    </tr>\n",
       "  </tbody>\n",
       "</table>\n",
       "</div>"
      ],
      "text/plain": [
       "              Age\n",
       "Title            \n",
       "Runner  42.587732"
      ]
     },
     "execution_count": 65,
     "metadata": {},
     "output_type": "execute_result"
    }
   ],
   "source": [
    "marathon = pd.read_csv('../../files/boston_marathon2017_edited.csv', sep = ',')\n",
    "\n",
    "marathon['Title'] = 'Runner'\n",
    "marathon.groupby(['Title']).mean()[['Age']]"
   ]
  },
  {
   "cell_type": "code",
   "execution_count": null,
   "id": "9be163bf",
   "metadata": {},
   "outputs": [],
   "source": []
  }
 ],
 "metadata": {
  "kernelspec": {
   "display_name": "Python 3",
   "language": "python",
   "name": "python3"
  },
  "language_info": {
   "codemirror_mode": {
    "name": "ipython",
    "version": 3
   },
   "file_extension": ".py",
   "mimetype": "text/x-python",
   "name": "python",
   "nbconvert_exporter": "python",
   "pygments_lexer": "ipython3",
   "version": "3.8.8"
  }
 },
 "nbformat": 4,
 "nbformat_minor": 5
}
