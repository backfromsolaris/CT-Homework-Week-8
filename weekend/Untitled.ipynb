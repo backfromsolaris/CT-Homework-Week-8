{
 "cells": [
  {
   "cell_type": "code",
   "execution_count": null,
   "id": "fe464473",
   "metadata": {},
   "outputs": [],
   "source": [
    "# 26. Remove Duplicates from Sorted Array\n",
    "\n",
    "# Given an integer array nums sorted in non-decreasing order, \n",
    "# remove the duplicates in-place such that each unique element appears only once. \n",
    "# The relative order of the elements should be kept the same.\n",
    "\n",
    "# Since it is impossible to change the length of the array in some languages, \n",
    "# you must instead have the result be placed in the first part of the array nums. \n",
    "\n",
    "# More formally, if there are k elements after removing the duplicates, \n",
    "# then the first k elements of nums should hold the final result. \n",
    "\n",
    "# It does not matter what you leave beyond the first k elements.\n",
    "\n",
    "# Return k after placing the final result in the first k slots of nums.\n",
    "\n",
    "# Do not allocate extra space for another array. \n",
    "# You must do this by modifying the input array in-place with O(1) extra memory.\n",
    "\n",
    "\n",
    "# Example 1:\n",
    "\n",
    "# Input: nums = [1,1,2]\n",
    "# Output: 2, nums = [1,2,_]\n",
    "# Explanation: Your function should return k = 2, with the first two elements of nums being 1 and 2 respectively.\n",
    "# It does not matter what you leave beyond the returned k (hence they are underscores).\n",
    "# Example 2:\n",
    "\n",
    "# Input: nums = [0,0,1,1,1,2,2,3,3,4]\n",
    "# Output: 5, nums = [0,1,2,3,4,_,_,_,_,_]\n",
    "# Explanation: Your function should return k = 5, with the first five elements of nums being 0, 1, 2, 3, and 4 respectively.\n",
    "# It does not matter what you leave beyond the returned k (hence they are underscores).\n",
    " \n",
    "\n",
    "# Constraints:\n",
    "\n",
    "# 0 <= nums.length <= 3 * 104\n",
    "# -100 <= nums[i] <= 100\n",
    "# nums is sorted in non-decreasing order.\n",
    "\n"
   ]
  },
  {
   "cell_type": "code",
   "execution_count": 14,
   "id": "d20fa40f",
   "metadata": {},
   "outputs": [
    {
     "data": {
      "text/plain": [
       "\"5, nums = [0, 1, 2, 3, 4, '_', '_', '_', '_', '_']\""
      ]
     },
     "execution_count": 14,
     "metadata": {},
     "output_type": "execute_result"
    }
   ],
   "source": [
    "def removeDups(my_arr):\n",
    "    my_set = set(my_arr)\n",
    "    final_arr = [set_member for set_member in my_set]\n",
    "    obj_diff = len(my_arr) - len(my_set)\n",
    "    for i in range(obj_diff):\n",
    "        final_arr.append('_')\n",
    "    return f'{obj_diff}, nums = {final_arr}'\n",
    "\n",
    "removeDups([0,0,1,1,1,2,2,3,3,4])\n"
   ]
  },
  {
   "cell_type": "code",
   "execution_count": null,
   "id": "bb307299",
   "metadata": {},
   "outputs": [],
   "source": []
  }
 ],
 "metadata": {
  "kernelspec": {
   "display_name": "Python 3",
   "language": "python",
   "name": "python3"
  },
  "language_info": {
   "codemirror_mode": {
    "name": "ipython",
    "version": 3
   },
   "file_extension": ".py",
   "mimetype": "text/x-python",
   "name": "python",
   "nbconvert_exporter": "python",
   "pygments_lexer": "ipython3",
   "version": "3.8.8"
  }
 },
 "nbformat": 4,
 "nbformat_minor": 5
}
